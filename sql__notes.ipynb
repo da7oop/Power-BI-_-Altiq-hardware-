{
  "nbformat": 4,
  "nbformat_minor": 0,
  "metadata": {
    "colab": {
      "provenance": []
    },
    "kernelspec": {
      "name": "python3",
      "display_name": "Python 3"
    },
    "language_info": {
      "name": "python"
    }
  },
  "cells": [
    {
      "cell_type": "markdown",
      "source": [
        "#Notes throught the course (Data analysis)"
      ],
      "metadata": {
        "id": "onv8Crjoulj3"
      }
    },
    {
      "cell_type": "code",
      "execution_count": null,
      "metadata": {
        "id": "ib_Cs7BGQKno"
      },
      "outputs": [],
      "source": [
        "SELECT count(*) FROM sales.transactions;  >> count rows in transaction table\n",
        "2) we tried to discover the number of transactions in chennie market that located in india\n",
        "3)WE WANT TO DISCOVER NUMBER OF TRANSACTIONS IN 2020 SO WE NEED TO APPLY INNER JOIN BTW (TRANSACTIONS AND DATE )\n",
        "\n",
        "SELECT sales.transactions.*, sales.date.*\n",
        "FROM sales.transactions\n",
        "INNER JOIN sales.date ON sales.transactions.order_date = sales.date.date;\n",
        "\n",
        "4)revenue in chenna and in 2020\n",
        "SELECT SUM( sales.transactions.sales_amount) FROM sales.transactions INNER JOIN sales.date ON sales.transactions.order_date=sales.date.date\n",
        " where sales.transactions.market_code=\"Mark001\" and sales.date.year=\"2020\";\n",
        "\n",
        "5)distict productes that u sell in chennie\n",
        "SELECT distinct product_code FROM sales.transactions where market_code=\"Mark001\";\n",
        "\n",
        "\n"
      ]
    },
    {
      "cell_type": "code",
      "source": [
        "SELECT sales.transactions.*, sales.date.* :\n",
        "\n",
        "This part selects all columns (*) from both tables\n",
        "FROM sales.transactions:\n",
        "\n",
        "Specifies sales.transactions as the main table from which data will be pulled (fetched).\n",
        "\n",
        "INNER JOIN sales.date :\n",
        "This performs an inner join between sales.transactions and sales.date, meaning:\n",
        "The query will return only the rows where there is a matching record in both tables.\n",
        "\n",
        "ON sales.transactions.order_date = sales.date.date\n",
        "Defines the join condition:\n",
        "The order_date column in sales.transactions must match the date column in sales.date.\n",
        "\n",
        "This helps bring in additional date-related information (e.g., year, quarter, month) from sales.date for each transaction"
      ],
      "metadata": {
        "id": "weCQMgcQug2H"
      },
      "execution_count": null,
      "outputs": []
    },
    {
      "cell_type": "markdown",
      "source": [
        "#power Bi"
      ],
      "metadata": {
        "id": "nafjRBy_ui0G"
      }
    },
    {
      "cell_type": "code",
      "source": [
        "Understanding the concept of data models in Power BI, establishing relationships between tables, and creating a star schema for efficient data analysis."
      ],
      "metadata": {
        "id": "00OeN8KZEYcQ"
      },
      "execution_count": null,
      "outputs": []
    },
    {
      "cell_type": "code",
      "source": [
        "#in our market tabel we want to filter out paris and newyork cuz we work on delhi\n",
        "#when we launch a a transform it will start >> power query editor where you can apply ETL,CLEANING\n",
        "#from the transaction tabel i will filter  all the -1 or 0 from sales_amount.\n",
        "#from transaction tabel i will trans the all the USD currencey to INR througutadding new column and apply the transformation from 0 and 1 to >> [sales_amount]*87 else [sales_amount]\n",
        "= Table.AddColumn(#\"Filtered Rows\", \"Currency_Norm\", each if [currency] = \"USD\" or [currency] = \"USD#(cr)\" then [sales_amount]*87 else [sales_amount] )\n"
      ],
      "metadata": {
        "id": "-tUCctXkE09r"
      },
      "execution_count": null,
      "outputs": []
    },
    {
      "cell_type": "code",
      "source": [
        "SELECT distinct (transactions.currency) FROM transactions;\n",
        "'INR' 278  frequent need to be cleaned\n",
        "'INR\\r SELECT count(*) FROM sales.transactions WHERE currency=\"INR\\r\"; = 15000\n",
        "\n",
        "same for usd currencey\n",
        "\n"
      ],
      "metadata": {
        "id": "A6UcrgqKU54f"
      },
      "execution_count": null,
      "outputs": []
    },
    {
      "cell_type": "markdown",
      "source": [],
      "metadata": {
        "id": "drKqw_VkE0A0"
      }
    }
  ]
}